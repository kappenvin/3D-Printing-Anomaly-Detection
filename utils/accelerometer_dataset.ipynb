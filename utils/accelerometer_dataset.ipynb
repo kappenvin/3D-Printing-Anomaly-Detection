{
 "cells": [
  {
   "cell_type": "code",
   "execution_count": 1,
   "metadata": {},
   "outputs": [],
   "source": [
    "import pandas as pd \n",
    "import numpy as np\n",
    "\n"
   ]
  },
  {
   "cell_type": "code",
   "execution_count": 12,
   "metadata": {},
   "outputs": [],
   "source": [
    "csv_path_druckkopf= r\"C:\\Users\\Vincent\\Documents\\Masterarbeit\\Data\\Prusa\\final_csv_files\\prusa_accelerometer_druckkopf.csv\""
   ]
  },
  {
   "cell_type": "code",
   "execution_count": 13,
   "metadata": {},
   "outputs": [],
   "source": [
    "df_druckkopf = pd.read_csv(csv_path_druckkopf)\n",
    "#df_druckbett = pd.read_csv(csv_path_druckbett)\n",
    "\n",
    "\n"
   ]
  },
  {
   "cell_type": "code",
   "execution_count": 14,
   "metadata": {},
   "outputs": [
    {
     "data": {
      "text/plain": [
       "Index(['Acceleration_X', 'Acceleration_Y', 'Acceleration_Z', 'Timestamp',\n",
       "       'Printer', 'PartName', 'SlicerSettings', 'Class'],\n",
       "      dtype='object')"
      ]
     },
     "execution_count": 14,
     "metadata": {},
     "output_type": "execute_result"
    }
   ],
   "source": [
    "df_druckkopf.columns"
   ]
  },
  {
   "cell_type": "code",
   "execution_count": 15,
   "metadata": {},
   "outputs": [],
   "source": [
    "df_druckkopf_cls= {cls: df_druckkopf[df_druckkopf['Class'] == cls] for cls in df_druckkopf['Class'].unique()}"
   ]
  },
  {
   "cell_type": "code",
   "execution_count": 16,
   "metadata": {},
   "outputs": [
    {
     "data": {
      "text/plain": [
       "array(['underextrusion4', 'underextrusion5'], dtype=object)"
      ]
     },
     "execution_count": 16,
     "metadata": {},
     "output_type": "execute_result"
    }
   ],
   "source": [
    "df_druckkopf_cls[2][\"SlicerSettings\"].unique()"
   ]
  },
  {
   "cell_type": "code",
   "execution_count": 17,
   "metadata": {},
   "outputs": [],
   "source": [
    "df_druckkopf_good=df_druckkopf_cls[0]\n",
    "df_druckkopf_stringing=df_druckkopf_cls[1]\n",
    "df_druckkopf_underextrusion=df_druckkopf_cls[2]\n"
   ]
  },
  {
   "cell_type": "code",
   "execution_count": 18,
   "metadata": {},
   "outputs": [
    {
     "data": {
      "text/plain": [
       "Index(['Acceleration_X', 'Acceleration_Y', 'Acceleration_Z', 'Timestamp',\n",
       "       'Printer', 'PartName', 'SlicerSettings', 'Class'],\n",
       "      dtype='object')"
      ]
     },
     "execution_count": 18,
     "metadata": {},
     "output_type": "execute_result"
    }
   ],
   "source": [
    "df_druckkopf_good.columns"
   ]
  },
  {
   "cell_type": "code",
   "execution_count": 19,
   "metadata": {},
   "outputs": [
    {
     "name": "stdout",
     "output_type": "stream",
     "text": [
      "<class 'pandas.core.series.Series'>\n"
     ]
    },
    {
     "ename": "SystemExit",
     "evalue": "",
     "output_type": "error",
     "traceback": [
      "An exception has occurred, use %tb to see the full traceback.\n",
      "\u001b[1;31mSystemExit\u001b[0m\n"
     ]
    },
    {
     "name": "stderr",
     "output_type": "stream",
     "text": [
      "c:\\Users\\Vincent\\miniconda3\\envs\\autoencoder_lightning\\lib\\site-packages\\IPython\\core\\interactiveshell.py:3561: UserWarning: To exit: use 'exit', 'quit', or Ctrl-D.\n",
      "  warn(\"To exit: use 'exit', 'quit', or Ctrl-D.\", stacklevel=1)\n"
     ]
    }
   ],
   "source": [
    "# make features for the segments\n",
    "\n",
    "from make_features_acceleration import butter_lowpass_filter,apply_fft_normalized\n",
    "import sys\n",
    "\n",
    "rms_features_good = pd.DataFrame()\n",
    "\n",
    "segment_length = 500  # Define the length of each segment\n",
    "\n",
    "columns_interest=['Acceleration_X', 'Acceleration_Y', 'Acceleration_Z']\n",
    "    \n",
    "# Calculate RMS for each segment in each column\n",
    "for col in columns_interest:\n",
    "    col_rms = []\n",
    "    for start in range(0, len(df_druckkopf_good), segment_length):\n",
    "        segment = df_druckkopf_good[col].iloc[start:start + segment_length]\n",
    "        if len(segment) == segment_length:\n",
    "            rms_value = np.sqrt(np.mean(segment**2))\n",
    "            peak_frequency = np.max(segment)\n",
    "            print(type(segment))\n",
    "        \n",
    "            col_rms.append(rms_value)\n",
    "\n",
    "    \n",
    "    # Add the RMS values as a new column in the rms_features dataframe\n",
    "    rms_features_good[f'{col}_rms'] = col_rms\n",
    "    rms_features_good[\"Class\"]=0\n",
    "\n",
    "\n"
   ]
  },
  {
   "cell_type": "code",
   "execution_count": null,
   "metadata": {},
   "outputs": [
    {
     "data": {
      "text/html": [
       "<div>\n",
       "<style scoped>\n",
       "    .dataframe tbody tr th:only-of-type {\n",
       "        vertical-align: middle;\n",
       "    }\n",
       "\n",
       "    .dataframe tbody tr th {\n",
       "        vertical-align: top;\n",
       "    }\n",
       "\n",
       "    .dataframe thead th {\n",
       "        text-align: right;\n",
       "    }\n",
       "</style>\n",
       "<table border=\"1\" class=\"dataframe\">\n",
       "  <thead>\n",
       "    <tr style=\"text-align: right;\">\n",
       "      <th></th>\n",
       "      <th>Acceleration_X_rms</th>\n",
       "      <th>Class</th>\n",
       "      <th>Acceleration_Y_rms</th>\n",
       "      <th>Acceleration_Z_rms</th>\n",
       "    </tr>\n",
       "  </thead>\n",
       "  <tbody>\n",
       "    <tr>\n",
       "      <th>0</th>\n",
       "      <td>0.076395</td>\n",
       "      <td>0</td>\n",
       "      <td>0.940883</td>\n",
       "      <td>0.426050</td>\n",
       "    </tr>\n",
       "    <tr>\n",
       "      <th>1</th>\n",
       "      <td>0.063033</td>\n",
       "      <td>0</td>\n",
       "      <td>0.927070</td>\n",
       "      <td>0.447716</td>\n",
       "    </tr>\n",
       "    <tr>\n",
       "      <th>2</th>\n",
       "      <td>0.063902</td>\n",
       "      <td>0</td>\n",
       "      <td>0.936460</td>\n",
       "      <td>0.430346</td>\n",
       "    </tr>\n",
       "    <tr>\n",
       "      <th>3</th>\n",
       "      <td>0.062366</td>\n",
       "      <td>0</td>\n",
       "      <td>0.906985</td>\n",
       "      <td>0.485283</td>\n",
       "    </tr>\n",
       "    <tr>\n",
       "      <th>4</th>\n",
       "      <td>0.063845</td>\n",
       "      <td>0</td>\n",
       "      <td>0.924220</td>\n",
       "      <td>0.456897</td>\n",
       "    </tr>\n",
       "    <tr>\n",
       "      <th>...</th>\n",
       "      <td>...</td>\n",
       "      <td>...</td>\n",
       "      <td>...</td>\n",
       "      <td>...</td>\n",
       "    </tr>\n",
       "    <tr>\n",
       "      <th>16248</th>\n",
       "      <td>0.038376</td>\n",
       "      <td>0</td>\n",
       "      <td>0.895714</td>\n",
       "      <td>0.498755</td>\n",
       "    </tr>\n",
       "    <tr>\n",
       "      <th>16249</th>\n",
       "      <td>0.024194</td>\n",
       "      <td>0</td>\n",
       "      <td>0.905027</td>\n",
       "      <td>0.483967</td>\n",
       "    </tr>\n",
       "    <tr>\n",
       "      <th>16250</th>\n",
       "      <td>0.021649</td>\n",
       "      <td>0</td>\n",
       "      <td>0.930915</td>\n",
       "      <td>0.437558</td>\n",
       "    </tr>\n",
       "    <tr>\n",
       "      <th>16251</th>\n",
       "      <td>0.013151</td>\n",
       "      <td>0</td>\n",
       "      <td>0.904444</td>\n",
       "      <td>0.485283</td>\n",
       "    </tr>\n",
       "    <tr>\n",
       "      <th>16252</th>\n",
       "      <td>0.013324</td>\n",
       "      <td>0</td>\n",
       "      <td>0.898212</td>\n",
       "      <td>0.494771</td>\n",
       "    </tr>\n",
       "  </tbody>\n",
       "</table>\n",
       "<p>16253 rows × 4 columns</p>\n",
       "</div>"
      ],
      "text/plain": [
       "       Acceleration_X_rms  Class  Acceleration_Y_rms  Acceleration_Z_rms\n",
       "0                0.076395      0            0.940883            0.426050\n",
       "1                0.063033      0            0.927070            0.447716\n",
       "2                0.063902      0            0.936460            0.430346\n",
       "3                0.062366      0            0.906985            0.485283\n",
       "4                0.063845      0            0.924220            0.456897\n",
       "...                   ...    ...                 ...                 ...\n",
       "16248            0.038376      0            0.895714            0.498755\n",
       "16249            0.024194      0            0.905027            0.483967\n",
       "16250            0.021649      0            0.930915            0.437558\n",
       "16251            0.013151      0            0.904444            0.485283\n",
       "16252            0.013324      0            0.898212            0.494771\n",
       "\n",
       "[16253 rows x 4 columns]"
      ]
     },
     "execution_count": 11,
     "metadata": {},
     "output_type": "execute_result"
    }
   ],
   "source": [
    "rms_features_good"
   ]
  },
  {
   "cell_type": "code",
   "execution_count": null,
   "metadata": {},
   "outputs": [],
   "source": [
    "# peak frequency , peak amplitude \n",
    "\n",
    "from scipy.signal import butter, filtfilt\n",
    "import numpy as np\n",
    "import matplotlib.pyplot as plt\n",
    "from scipy.fft import fft, ifft, fftfreq\n",
    "\n",
    "def butter_lowpass_filter(data, cutoff, fs, order=5):\n",
    "    \n",
    "    # Calculate the Nyquist frequency\n",
    "    nyquist = 0.5 * fs\n",
    "    # Calculate the normal cutoff frequency needed for the filter , if normal_cutoff= 1 the nyquist frequency will be taken.\n",
    "    normal_cutoff = cutoff / nyquist\n",
    "    # Design the Butterworth filter\n",
    "    b, a = butter(order, normal_cutoff, btype='low', analog=False)\n",
    "    # Apply the Butterworth filter to the data\n",
    "    y = filtfilt(b, a, data)\n",
    "    return y\n",
    "\n",
    "\n",
    "def apply_fft_normalized(data, fs):\n",
    "    # Step 1: Calculate the number of samples in the data\n",
    "    n = len(data)\n",
    "    \n",
    "    # Step 2: Compute the FFT of the data\n",
    "    fft_data = np.fft.fft(data)\n",
    "    \n",
    "    # Step 3: Normalize the amplitude of the FFT output\n",
    "    fft_amplitude = np.abs(fft_data) / n\n",
    "    \n",
    "    # Step 4: Compute the frequency bins corresponding to the FFT output\n",
    "    freq = np.fft.fftfreq(n, 1/fs)\n",
    "    \n",
    "    # Step 5: Prepare the single-sided amplitude spectrum\n",
    "    single_sided_amplitude = fft_amplitude[:n//2]\n",
    "    single_sided_amplitude[1:] = 2 * single_sided_amplitude[1:]\n",
    "    \n",
    "    # Step 6: Prepare the corresponding frequency bins for the single-sided spectrum\n",
    "    single_sided_freq = freq[:n//2]\n",
    "    \n",
    "    # Step 7: Return the single-sided amplitude and frequency arrays\n",
    "    return single_sided_amplitude, single_sided_freq"
   ]
  },
  {
   "cell_type": "code",
   "execution_count": 14,
   "metadata": {},
   "outputs": [
    {
     "data": {
      "text/plain": [
       "Index(['Acceleration_X', 'Acceleration_Y', 'Acceleration_Z', 'Timestamp',\n",
       "       'Printer', 'PartName', 'SlicerSettings', 'Class'],\n",
       "      dtype='object')"
      ]
     },
     "execution_count": 14,
     "metadata": {},
     "output_type": "execute_result"
    }
   ],
   "source": [
    "df_druckkopf_good.columns"
   ]
  },
  {
   "cell_type": "code",
   "execution_count": 15,
   "metadata": {},
   "outputs": [
    {
     "data": {
      "text/plain": [
       "0           2024-06-24 15:29:34.003\n",
       "1           2024-06-24 15:29:34.011\n",
       "2           2024-06-24 15:29:34.013\n",
       "3           2024-06-24 15:29:34.014\n",
       "4           2024-06-24 15:29:34.016\n",
       "                     ...           \n",
       "16064552    2024-06-13 10:54:22.811\n",
       "16064553    2024-06-13 10:54:22.813\n",
       "16064554    2024-06-13 10:54:22.814\n",
       "16064555    2024-06-13 10:54:22.815\n",
       "16064556    2024-06-13 10:54:22.817\n",
       "Name: Timestamp, Length: 14628494, dtype: object"
      ]
     },
     "execution_count": 15,
     "metadata": {},
     "output_type": "execute_result"
    }
   ],
   "source": [
    "df_druckkopf_good[\"Timestamp\"]"
   ]
  },
  {
   "cell_type": "markdown",
   "metadata": {},
   "source": [
    "## Calculate the sampling frequency"
   ]
  },
  {
   "cell_type": "code",
   "execution_count": 36,
   "metadata": {},
   "outputs": [
    {
     "name": "stderr",
     "output_type": "stream",
     "text": [
      "C:\\Users\\Vincent\\AppData\\Local\\Temp\\ipykernel_16348\\4145794481.py:2: SettingWithCopyWarning: \n",
      "A value is trying to be set on a copy of a slice from a DataFrame.\n",
      "Try using .loc[row_indexer,col_indexer] = value instead\n",
      "\n",
      "See the caveats in the documentation: https://pandas.pydata.org/pandas-docs/stable/user_guide/indexing.html#returning-a-view-versus-a-copy\n",
      "  df_druckkopf_good['Timestamp'] = pd.to_datetime(df_druckkopf_good['Timestamp'], format='%Y-%m-%d %H:%M:%S.%f')\n"
     ]
    },
    {
     "name": "stdout",
     "output_type": "stream",
     "text": [
      "-15.1290968723988\n"
     ]
    }
   ],
   "source": [
    "# Convert timestamps to datetime objects\n",
    "df_druckkopf_good['Timestamp'] = pd.to_datetime(df_druckkopf_good['Timestamp'], format='%Y-%m-%d %H:%M:%S.%f')\n",
    "\n",
    "# Calculate time differences in seconds\n",
    "time_diffs = df_druckkopf_good['Timestamp'].diff().dt.total_seconds()\n",
    "\n",
    "time_diffs = time_diffs.dropna()\n",
    "\n",
    "# Calculate the average time difference\n",
    "avg_time_diff = time_diffs.mean()\n",
    "\n",
    "# Calculate the frequency (samples per second)\n",
    "frequency = 1 / avg_time_diff\n",
    "\n",
    "print(frequency)l\n"
   ]
  },
  {
   "cell_type": "code",
   "execution_count": 38,
   "metadata": {},
   "outputs": [
    {
     "name": "stdout",
     "output_type": "stream",
     "text": [
      "-1292794.027 1297293.049\n"
     ]
    }
   ],
   "source": [
    "print(min(time_diffs), max(time_diffs))"
   ]
  },
  {
   "cell_type": "code",
   "execution_count": 33,
   "metadata": {},
   "outputs": [
    {
     "name": "stdout",
     "output_type": "stream",
     "text": [
      "0.001 0.008\n"
     ]
    }
   ],
   "source": [
    "print(min(time_diffs), max(time_diffs))"
   ]
  },
  {
   "cell_type": "code",
   "execution_count": 34,
   "metadata": {},
   "outputs": [],
   "source": [
    "avg_time_diff = time_diffs.mean()"
   ]
  },
  {
   "cell_type": "code",
   "execution_count": 35,
   "metadata": {},
   "outputs": [
    {
     "data": {
      "text/plain": [
       "0.00325"
      ]
     },
     "execution_count": 35,
     "metadata": {},
     "output_type": "execute_result"
    }
   ],
   "source": [
    "avg_time_diff"
   ]
  },
  {
   "cell_type": "code",
   "execution_count": 23,
   "metadata": {},
   "outputs": [
    {
     "data": {
      "text/plain": [
       "-15.129096872398769"
      ]
     },
     "execution_count": 23,
     "metadata": {},
     "output_type": "execute_result"
    }
   ],
   "source": [
    "frequency"
   ]
  },
  {
   "cell_type": "code",
   "execution_count": 29,
   "metadata": {},
   "outputs": [],
   "source": [
    "\n",
    "import numpy as np\n",
    "import matplotlib.pyplot as plt\n",
    "\n",
    "# Create a sample DataFrame with your timestamp format\n",
    "data = {\n",
    "    'timestamp': [\n",
    "        '2024-06-24 15:29:34.003',\n",
    "        '2024-06-24 15:29:34.011',\n",
    "        '2024-06-24 15:29:34.013',\n",
    "        '2024-06-24 15:29:34.014',\n",
    "        '2024-06-24 15:29:34.016'\n",
    "    ]\n",
    "}\n",
    "df = pd.DataFrame(data)\n",
    "\n",
    "# Convert timestamps to datetime objects\n",
    "df['timestamp'] = pd.to_datetime(df['timestamp'], format='%Y-%m-%d %H:%M:%S.%f')\n",
    "\n",
    "# Calculate time differences in seconds\n",
    "time_diffs = df['timestamp'].diff().dt.total_seconds()\n",
    "\n",
    "# Calculate the average time difference\n",
    "avg_time_diff = time_diffs.mean()\n",
    "\n",
    "# Calculate the frequency (samples per second)\n",
    "frequency = 1 / avg_time_diff"
   ]
  },
  {
   "cell_type": "code",
   "execution_count": 30,
   "metadata": {},
   "outputs": [
    {
     "data": {
      "text/plain": [
       "0.00325"
      ]
     },
     "execution_count": 30,
     "metadata": {},
     "output_type": "execute_result"
    }
   ],
   "source": [
    "avg_time_diff"
   ]
  },
  {
   "cell_type": "code",
   "execution_count": null,
   "metadata": {},
   "outputs": [],
   "source": []
  }
 ],
 "metadata": {
  "kernelspec": {
   "display_name": "autoencoder_lightning",
   "language": "python",
   "name": "python3"
  },
  "language_info": {
   "codemirror_mode": {
    "name": "ipython",
    "version": 3
   },
   "file_extension": ".py",
   "mimetype": "text/x-python",
   "name": "python",
   "nbconvert_exporter": "python",
   "pygments_lexer": "ipython3",
   "version": "3.10.14"
  }
 },
 "nbformat": 4,
 "nbformat_minor": 2
}
